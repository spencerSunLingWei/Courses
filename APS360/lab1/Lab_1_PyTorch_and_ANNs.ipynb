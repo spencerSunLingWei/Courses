{
  "nbformat": 4,
  "nbformat_minor": 0,
  "metadata": {
    "colab": {
      "name": "Lab_1_PyTorch_and_ANNs.ipynb",
      "provenance": [],
      "collapsed_sections": [
        "mALD3Y2bbzGT",
        "yUh1MySTbzHT",
        "LbKJjoHHbzI4",
        "FmfE9CQdIGva",
        "8uYOzBrskDcv",
        "CSznZ1hHhB1X",
        "tlOPFmpJib0f",
        "9shC958rjetd",
        "mtrLEVUcjeks",
        "l5i4DXWvjea4"
      ],
      "toc_visible": true
    },
    "kernelspec": {
      "display_name": "Python 3",
      "language": "python",
      "name": "python3"
    },
    "language_info": {
      "codemirror_mode": {
        "name": "ipython",
        "version": 3
      },
      "file_extension": ".py",
      "mimetype": "text/x-python",
      "name": "python",
      "nbconvert_exporter": "python",
      "pygments_lexer": "ipython3",
      "version": "3.6.3"
    }
  },
  "cells": [
    {
      "cell_type": "markdown",
      "metadata": {
        "id": "3sxa8YxCbzGL"
      },
      "source": [
        "# Lab 1. PyTorch and ANNs\n",
        "\n",
        "**Deadline**: Monday, Jan 25, 5:00pm.\n",
        "\n",
        "**Total**: 30 Points\n",
        "\n",
        "**Late Penalty**: There is a penalty-free grace period of one hour past the deadline. Any work that is submitted between 1 hour and 24 hours past the deadline will receive a 20% grade deduction. No other late work is accepted. Quercus submission time will be used, not your local computer time. You can submit your labs as many times as you want before the deadline, so please submit often and early.\n",
        "\n",
        "**Grading TA**: Justin Beland, Ali Khodadadi\n",
        "\n",
        "This lab is based on assignments developed by Jonathan Rose, Harris Chan, Lisa Zhang, and Sinisa Colic.\n",
        "\n",
        "This lab is a warm up to get you used to the PyTorch programming environment used\n",
        "in the course, and also to help you review and renew your knowledge\n",
        "of Python and relevant Python libraries.\n",
        "The lab must be done individually. Please recall that the\n",
        "University of Toronto plagarism rules apply.\n",
        "\n",
        "By the end of this lab, you should be able to:\n",
        "\n",
        "1. Be able to perform basic PyTorch tensor operations.\n",
        "2. Be able to load data into PyTorch\n",
        "3. Be able to configure an Artificial Neural Network (ANN) using PyTorch\n",
        "4. Be able to train ANNs using PyTorch\n",
        "5. Be able to evaluate different ANN configuations\n",
        "\n",
        "You will need to use numpy and PyTorch documentations for this assignment:\n",
        "\n",
        "* https://docs.scipy.org/doc/numpy/reference/\n",
        "* https://pytorch.org/docs/stable/torch.html\n",
        "\n",
        "You can also reference Python API documentations freely.\n",
        "\n",
        "\n",
        "### What to submit\n",
        "\n",
        "Submit a PDF file containing all your code, outputs, and write-up\n",
        "from parts 1-5. You can produce a PDF of your Google Colab file by\n",
        "going to `File -> Print` and then save as PDF. The Colab instructions\n",
        "has more information.\n",
        "\n",
        "**Do not submit any other files produced by your code.**\n",
        "\n",
        "Include a link to your colab file in your submission.\n",
        "\n",
        "Please use Google Colab to complete this assignment. If you want to use Jupyter Notebook, please complete the assignment and upload your Jupyter Notebook file to Google Colab for submission. \n",
        "\n",
        "**Adjust the scaling to ensure that the text is not cutoff at the margins.**"
      ]
    },
    {
      "cell_type": "markdown",
      "metadata": {
        "id": "_TlLBrWBIGt0"
      },
      "source": [
        "## Colab Link\n",
        "\n",
        "Submit make sure to include a link to your colab file here\n",
        "\n",
        "Colab Link: https://colab.research.google.com/drive/1GBb8XtvP2lYFiOREJN-lkirKvt9PvpxA?usp=sharing"
      ]
    },
    {
      "cell_type": "markdown",
      "metadata": {
        "id": "mALD3Y2bbzGT"
      },
      "source": [
        "## Part 1. Python Basics [3 pt]\n",
        "\n",
        "The purpose of this section is to get you used to the \n",
        "basics of Python, including working with functions, numbers,\n",
        "lists, and strings.\n",
        "\n",
        "Note that we **will** be checking your code for clarity and efficiency.\n",
        "\n",
        "If you have trouble with this part of the assignment, please review http://cs231n.github.io/python-numpy-tutorial/"
      ]
    },
    {
      "cell_type": "markdown",
      "metadata": {
        "id": "7gimRTE9bzGa"
      },
      "source": [
        "### Part (a) -- 1pt\n",
        "\n",
        "Write a function `sum_of_cubes` that computes the sum of cubes up to `n`. If the input to `sum_of_cubes` invalid (e.g. negative or non-integer `n`), the function should print out `\"Invalid input\"` and return `-1`."
      ]
    },
    {
      "cell_type": "code",
      "metadata": {
        "colab": {
          "base_uri": "https://localhost:8080/"
        },
        "collapsed": true,
        "id": "fifG_Wv6bzGf",
        "outputId": "401eac8b-3d8c-4d90-fa2e-183d7e7bad94"
      },
      "source": [
        "def sum_of_cubes(n):\n",
        "    \"\"\"Return the sum (1^3 + 2^3 + 3^3 + ... + n^3)\n",
        "    \n",
        "    Precondition: n > 0, type(n) == int\n",
        "    \n",
        "    >>> sum_of_cubes(3)\n",
        "    36\n",
        "    >>> sum_of_cubes(1)\n",
        "    1\n",
        "    \"\"\"\n",
        "    #check for invalid input, as n must >0 and is integer\n",
        "    if n<=0 or (isinstance(n, int))==False:\n",
        "      return -1\n",
        "\n",
        "    sum_toReturn = 0\n",
        "    for i in range(1,n+1):\n",
        "      sum_toReturn += pow(i,3)\n",
        "\n",
        "    return sum_toReturn\n",
        "\n",
        "print(sum_of_cubes(3))\n",
        "print(sum_of_cubes(1))"
      ],
      "execution_count": null,
      "outputs": [
        {
          "output_type": "stream",
          "text": [
            "36\n",
            "1\n"
          ],
          "name": "stdout"
        }
      ]
    },
    {
      "cell_type": "markdown",
      "metadata": {
        "id": "bOxDP8AlbzG2"
      },
      "source": [
        "### Part (b) -- 1pt\n",
        "\n",
        "Write a function `word_lengths` that takes a sentence (string), computes the length of each word in that sentence, and returns the length of each word in a list. You can\n",
        "assume that words are always separated by a space character `\" \"`.\n",
        "\n",
        "Hint: recall the `str.split` function in Python.\n",
        "If you arenot sure how this function works, try\n",
        "typing `help(str.split)` into a Python shell, or check out https://docs.python.org/3.6/library/stdtypes.html#str.split"
      ]
    },
    {
      "cell_type": "code",
      "metadata": {
        "colab": {
          "base_uri": "https://localhost:8080/"
        },
        "collapsed": true,
        "id": "H84jlGrVbzG5",
        "outputId": "398aef2b-52f2-46e8-ce32-4aa455ec54a2"
      },
      "source": [
        "help(str.split)"
      ],
      "execution_count": null,
      "outputs": [
        {
          "output_type": "stream",
          "text": [
            "Help on method_descriptor:\n",
            "\n",
            "split(...)\n",
            "    S.split(sep=None, maxsplit=-1) -> list of strings\n",
            "    \n",
            "    Return a list of the words in S, using sep as the\n",
            "    delimiter string.  If maxsplit is given, at most maxsplit\n",
            "    splits are done. If sep is not specified or is None, any\n",
            "    whitespace string is a separator and empty strings are\n",
            "    removed from the result.\n",
            "\n"
          ],
          "name": "stdout"
        }
      ]
    },
    {
      "cell_type": "code",
      "metadata": {
        "colab": {
          "base_uri": "https://localhost:8080/"
        },
        "collapsed": true,
        "id": "w1lbnwgsbzHG",
        "outputId": "042e68ac-80ca-45eb-8cd9-8f1e1474191c"
      },
      "source": [
        "def word_lengths(sentence):\n",
        "    \"\"\"Return a list containing the length of each word in\n",
        "    sentence.\n",
        "    \n",
        "    >>> word_lengths(\"welcome to APS360!\")\n",
        "    [7, 2, 7]\n",
        "    >>> word_lengths(\"machine learning is so cool\")\n",
        "    [7, 8, 2, 2, 4]\n",
        "    \"\"\"\n",
        "    #convert the sentence to the word list\n",
        "    word_lst = sentence.split(\" \")\n",
        "    \n",
        "    word_length = [0]*len(word_lst)\n",
        "    for i in range(len(word_lst)):\n",
        "      word_length[i] = len(word_lst[i])\n",
        "\n",
        "    return word_length\n",
        "\n",
        "print(word_lengths(\"welcome to APS360!\"))  \n",
        "print(word_lengths(\"machine learning is so cool\"))"
      ],
      "execution_count": null,
      "outputs": [
        {
          "output_type": "stream",
          "text": [
            "[7, 2, 7]\n",
            "[7, 8, 2, 2, 4]\n"
          ],
          "name": "stdout"
        }
      ]
    },
    {
      "cell_type": "markdown",
      "metadata": {
        "id": "iCsnzu4NIGuD"
      },
      "source": [
        "### Part (c) -- 1pt\n",
        "\n",
        "Write a function `all_same_length` that takes a sentence (string),\n",
        "and checks whether every word in the string is the same length.\n",
        "You should call the function `word_lengths` in the body\n",
        "of this new function.\n"
      ]
    },
    {
      "cell_type": "code",
      "metadata": {
        "colab": {
          "base_uri": "https://localhost:8080/"
        },
        "collapsed": true,
        "id": "Z-7qytZEIGuE",
        "outputId": "85e1926f-29c3-44b0-b9fa-3ccf8ae41005"
      },
      "source": [
        "def all_same_length(sentence):\n",
        "    \"\"\"Return True if every word in sentence has the same\n",
        "    length, and False otherwise.\n",
        "    \n",
        "    >>> all_same_length(\"all same length\")\n",
        "    False\n",
        "    >>> all_same_length(\"hello world\")\n",
        "    True\n",
        "    \"\"\"\n",
        "    #convert the sentence to the word list\n",
        "    word_lst = sentence.split(\" \")\n",
        "\n",
        "    word_length = len(word_lst[0])\n",
        "    for i in range(1,len(word_lst)):\n",
        "      #not in the same length\n",
        "      if word_length != len(word_lst[i]):\n",
        "        return False\n",
        "\n",
        "    #in the same length\n",
        "    return True\n",
        "\n",
        "print(all_same_length(\"all same length\"))\n",
        "print(all_same_length(\"hello world\"))"
      ],
      "execution_count": null,
      "outputs": [
        {
          "output_type": "stream",
          "text": [
            "False\n",
            "True\n"
          ],
          "name": "stdout"
        }
      ]
    },
    {
      "cell_type": "markdown",
      "metadata": {
        "id": "yUh1MySTbzHT"
      },
      "source": [
        "## Part 2. NumPy Exercises [5 pt]\n",
        "\n",
        "In this part of the assignment, you'll be manipulating arrays \n",
        "usign NumPy. Normally, we use the shorter name `np` to represent\n",
        "the package `numpy`."
      ]
    },
    {
      "cell_type": "code",
      "metadata": {
        "collapsed": true,
        "id": "H2opcxqMbzHW"
      },
      "source": [
        "import numpy as np"
      ],
      "execution_count": null,
      "outputs": []
    },
    {
      "cell_type": "markdown",
      "metadata": {
        "id": "Ek29jdqPbzHf"
      },
      "source": [
        "### Part (a) -- 1pt\n",
        "\n",
        "The below variables `matrix` and `vector` are numpy arrays. Explain what you think `<NumpyArray>.size` and `<NumpyArray>.shape` represent."
      ]
    },
    {
      "cell_type": "markdown",
      "metadata": {
        "id": "rHCbzB9aU24G"
      },
      "source": [
        "Answer: \n",
        "\n",
        "1. In my opinion, the `<NumpyArray>.size` will return the number of individual elements inside the ndarrays. \n",
        "\n",
        "  Or we can say that it will first reshape the ndarray to an one-dimension array, then return the size of the 1d array, which will also be the number of element inside the ndarray. \n",
        "\n",
        "2. The `<NumpyArray>.shape` will return a tuple which has the length of its dimension. Each number inside the tuple will be size of each dimension.\n",
        "\n",
        "  For example, the matrix is a 2d array, which contains three 1d arrays inside. Each 1d array contains 4 elements. So, the shape of the matrix is (3,4). \n",
        "\n",
        "  Also, to be noticed is that, a tuple with one element has a trailing comma. So, the shape of vector is (4,), which has 4 elements in the 1d array and a trailing comma existing in the tuple."
      ]
    },
    {
      "cell_type": "code",
      "metadata": {
        "collapsed": true,
        "id": "Z6eniOV2bzHi"
      },
      "source": [
        "matrix = np.array([[1., 2., 3., 0.5],\n",
        "                   [4., 5., 0., 0.],\n",
        "                   [-1., -2., 1., 1.]])\n",
        "vector = np.array([2., 0., 1., -2.])"
      ],
      "execution_count": null,
      "outputs": []
    },
    {
      "cell_type": "code",
      "metadata": {
        "colab": {
          "base_uri": "https://localhost:8080/"
        },
        "collapsed": true,
        "id": "JMIy15dKIGuP",
        "outputId": "e358cb36-0530-4031-9227-4da1ef82730c"
      },
      "source": [
        "matrix.size"
      ],
      "execution_count": null,
      "outputs": [
        {
          "output_type": "execute_result",
          "data": {
            "text/plain": [
              "12"
            ]
          },
          "metadata": {
            "tags": []
          },
          "execution_count": 137
        }
      ]
    },
    {
      "cell_type": "code",
      "metadata": {
        "colab": {
          "base_uri": "https://localhost:8080/"
        },
        "collapsed": true,
        "id": "QoHaPzDNbzHo",
        "scrolled": true,
        "outputId": "9802155e-7931-4cb1-98fc-09c7c9a5dd99"
      },
      "source": [
        "matrix.shape"
      ],
      "execution_count": null,
      "outputs": [
        {
          "output_type": "execute_result",
          "data": {
            "text/plain": [
              "(3, 4)"
            ]
          },
          "metadata": {
            "tags": []
          },
          "execution_count": 138
        }
      ]
    },
    {
      "cell_type": "code",
      "metadata": {
        "colab": {
          "base_uri": "https://localhost:8080/"
        },
        "collapsed": true,
        "id": "dErt6w25bzHu",
        "outputId": "21b25104-b888-47c3-a54d-c31448ac2d7d"
      },
      "source": [
        "vector.size"
      ],
      "execution_count": null,
      "outputs": [
        {
          "output_type": "execute_result",
          "data": {
            "text/plain": [
              "4"
            ]
          },
          "metadata": {
            "tags": []
          },
          "execution_count": 139
        }
      ]
    },
    {
      "cell_type": "code",
      "metadata": {
        "colab": {
          "base_uri": "https://localhost:8080/"
        },
        "collapsed": true,
        "id": "TXhHCchIIGua",
        "outputId": "e330e297-c1c3-439a-f75d-406304b51b1c"
      },
      "source": [
        "vector.shape"
      ],
      "execution_count": null,
      "outputs": [
        {
          "output_type": "execute_result",
          "data": {
            "text/plain": [
              "(4,)"
            ]
          },
          "metadata": {
            "tags": []
          },
          "execution_count": 140
        }
      ]
    },
    {
      "cell_type": "markdown",
      "metadata": {
        "id": "9PQ-pRIlbzH8"
      },
      "source": [
        "### Part (b) -- 1pt\n",
        "\n",
        "Perform matrix multiplication `output = matrix x vector` by using\n",
        "for loops to iterate through the columns and rows.\n",
        "Do not use any builtin NumPy functions.\n",
        "Cast your output into a NumPy array, if it isn't one already.\n",
        "\n",
        "Hint: be mindful of the dimension of output"
      ]
    },
    {
      "cell_type": "code",
      "metadata": {
        "collapsed": true,
        "id": "SXnZFii2bzH-"
      },
      "source": [
        "output = None"
      ],
      "execution_count": null,
      "outputs": []
    },
    {
      "cell_type": "code",
      "metadata": {
        "colab": {
          "base_uri": "https://localhost:8080/"
        },
        "collapsed": true,
        "id": "BiIVqVvvbzII",
        "outputId": "b9adde3f-bf61-4375-dfc3-801018e56fd9"
      },
      "source": [
        "output = [0]*(len(matrix))\n",
        "for i in range(len(matrix)):\n",
        "  for j in range(len(matrix[i])):\n",
        "    output[i] += matrix[i][j] * vector[j]\n",
        "\n",
        "#cast the list to ndarray\n",
        "output = np.array(output)\n",
        "output"
      ],
      "execution_count": null,
      "outputs": [
        {
          "output_type": "execute_result",
          "data": {
            "text/plain": [
              "array([ 4.,  8., -3.])"
            ]
          },
          "metadata": {
            "tags": []
          },
          "execution_count": 142
        }
      ]
    },
    {
      "cell_type": "markdown",
      "metadata": {
        "id": "O5UhbilNbzIP"
      },
      "source": [
        "### Part (c) -- 1pt\n",
        "\n",
        "Perform matrix multiplication `output2 = matrix x vector` by using\n",
        "the function `numpy.dot`.\n",
        "\n",
        "We will never actually write code as in\n",
        "part(c), not only because `numpy.dot` is more concise and easier to read/write, but also performance-wise `numpy.dot` is much faster (it is written in C and highly optimized).\n",
        "In general, we will avoid for loops in our code."
      ]
    },
    {
      "cell_type": "code",
      "metadata": {
        "collapsed": true,
        "id": "e8dLVrMEbzIR"
      },
      "source": [
        "output2 = None"
      ],
      "execution_count": null,
      "outputs": []
    },
    {
      "cell_type": "code",
      "metadata": {
        "colab": {
          "base_uri": "https://localhost:8080/"
        },
        "collapsed": true,
        "id": "X1LqY1eKbzIV",
        "outputId": "d43939da-cfa7-4e49-d921-bef3c5dd4f4e"
      },
      "source": [
        "output2 = np.dot(matrix, vector)\n",
        "output2"
      ],
      "execution_count": null,
      "outputs": [
        {
          "output_type": "execute_result",
          "data": {
            "text/plain": [
              "array([ 4.,  8., -3.])"
            ]
          },
          "metadata": {
            "tags": []
          },
          "execution_count": 144
        }
      ]
    },
    {
      "cell_type": "markdown",
      "metadata": {
        "id": "77XioX6vbzIb"
      },
      "source": [
        "### Part (d) -- 1pt\n",
        "\n",
        "As a way to test for consistency, show that the two outputs match."
      ]
    },
    {
      "cell_type": "code",
      "metadata": {
        "colab": {
          "base_uri": "https://localhost:8080/"
        },
        "collapsed": true,
        "id": "1Vc-Nvf0bzIc",
        "outputId": "224e6aff-ccc4-4218-8e60-db296feb6481"
      },
      "source": [
        "if (output == output2).all:\n",
        "  print(True) "
      ],
      "execution_count": null,
      "outputs": [
        {
          "output_type": "stream",
          "text": [
            "True\n"
          ],
          "name": "stdout"
        }
      ]
    },
    {
      "cell_type": "markdown",
      "metadata": {
        "id": "wjEGmk8oIGur"
      },
      "source": [
        "### Part (e) -- 1pt\n",
        "\n",
        "Show that using `np.dot` is faster than using your code from part (c).\n",
        "\n",
        "You may find the below code snippit helpful:"
      ]
    },
    {
      "cell_type": "code",
      "metadata": {
        "colab": {
          "base_uri": "https://localhost:8080/"
        },
        "collapsed": true,
        "id": "XlnE0XO8IGur",
        "outputId": "d1a655e1-1dc3-46c3-8d72-a94ee3ac1ea1"
      },
      "source": [
        "import time\n",
        "\n",
        "# record the time before running code\n",
        "start_time = time.time()\n",
        "\n",
        "# place code to run here\n",
        "for i in range(10000):\n",
        "    99*99\n",
        "    \n",
        "# record the time after the code is run\n",
        "end_time = time.time()\n",
        "\n",
        "# compute the difference\n",
        "diff = end_time - start_time\n",
        "diff"
      ],
      "execution_count": null,
      "outputs": [
        {
          "output_type": "execute_result",
          "data": {
            "text/plain": [
              "0.0010972023010253906"
            ]
          },
          "metadata": {
            "tags": []
          },
          "execution_count": 146
        }
      ]
    },
    {
      "cell_type": "code",
      "metadata": {
        "colab": {
          "base_uri": "https://localhost:8080/"
        },
        "collapsed": true,
        "id": "0aBOgCJeIGuv",
        "outputId": "c06947d6-7e39-47da-a836-69f41e933d1c"
      },
      "source": [
        "#partB\n",
        "start_time = time.time()\n",
        "\n",
        "output = [0]*(len(matrix))\n",
        "for i in range(len(matrix)):\n",
        "  for j in range(len(matrix[i])):\n",
        "    output[i] += matrix[i][j] * vector[j]\n",
        "output = np.array(output)\n",
        "\n",
        "end_time = time.time()\n",
        "B = end_time - start_time\n",
        "\n",
        "#partC\n",
        "start_time = time.time()\n",
        "\n",
        "output2 = np.dot(matrix, vector)\n",
        "\n",
        "end_time = time.time()\n",
        "C = end_time - start_time\n",
        "\n",
        "if C<B:\n",
        "  print(\"Time for C (\" + str(C) + \") is shorter than time for B (\" + str(B)+ \")\")"
      ],
      "execution_count": null,
      "outputs": [
        {
          "output_type": "stream",
          "text": [
            "Time for C (4.100799560546875e-05) is shorter than time for B (0.00015234947204589844)\n"
          ],
          "name": "stdout"
        }
      ]
    },
    {
      "cell_type": "markdown",
      "metadata": {
        "id": "LbKJjoHHbzI4"
      },
      "source": [
        "## Part 3. Images [6 pt]\n",
        "\n",
        "A picture or image can be represented as a NumPy array of “pixels”, \n",
        "with dimensions H × W × C, where H is the height of the image, W is the width of the image,\n",
        "and C is the number of colour channels. Typically we will use an image with channels that give the the Red, Green, and Blue “level” of each pixel, which is referred to with the short form RGB.\n",
        "\n",
        "You will write Python code to load an image, and perform several array manipulations to the image and visualize their effects. "
      ]
    },
    {
      "cell_type": "code",
      "metadata": {
        "collapsed": true,
        "id": "FRGQKpEgbzI4"
      },
      "source": [
        "import matplotlib.pyplot as plt"
      ],
      "execution_count": null,
      "outputs": []
    },
    {
      "cell_type": "markdown",
      "metadata": {
        "id": "p1D5mtCubzI6"
      },
      "source": [
        "### Part (a) -- 1 pt\n",
        "\n",
        "This is a photograph of a dog whose name is Mochi.\n",
        "\n",
        "![alt text](https://drive.google.com/uc?export=view&id=1oaLVR2hr1_qzpKQ47i9rVUIklwbDcews)\n",
        "\n",
        "Load the image from its url (https://drive.google.com/uc?export=view&id=1oaLVR2hr1_qzpKQ47i9rVUIklwbDcews) into the variable `img` using the `plt.imread` function.\n",
        "\n",
        "Hint: You can enter the URL directly into the `plt.imread` function as a Python string."
      ]
    },
    {
      "cell_type": "code",
      "metadata": {
        "collapsed": true,
        "id": "RB8lf73vbzI7"
      },
      "source": [
        "img = plt.imread(\"https://drive.google.com/uc?export=view&id=1oaLVR2hr1_qzpKQ47i9rVUIklwbDcews\")"
      ],
      "execution_count": null,
      "outputs": []
    },
    {
      "cell_type": "markdown",
      "metadata": {
        "id": "mNli5OsbbzI9"
      },
      "source": [
        "### Part (b) -- 1pt\n",
        "\n",
        "Use the function `plt.imshow` to visualize `img`. \n",
        "\n",
        "This function will also show the coordinate system used to identify pixels.\n",
        "The origin is at the top left corner, and the first dimension indicates the Y (row) direction, \n",
        "and the second dimension indicates the X (column) dimension."
      ]
    },
    {
      "cell_type": "code",
      "metadata": {
        "colab": {
          "base_uri": "https://localhost:8080/"
        },
        "collapsed": true,
        "id": "lEeHKc_abzI9",
        "scrolled": false,
        "outputId": "d40064f8-840d-4f85-b31f-006b5ea3ca0d"
      },
      "source": [
        "plt.imshow(img)"
      ],
      "execution_count": null,
      "outputs": [
        {
          "output_type": "execute_result",
          "data": {
            "text/plain": [
              "<matplotlib.image.AxesImage at 0x7f2b0ac42b38>"
            ]
          },
          "metadata": {
            "tags": []
          },
          "execution_count": 150
        },
        {
          "output_type": "display_data",
          "data": {
            "image/png": "[encoded data removed]",
            "text/plain": [
              "<Figure size 432x288 with 1 Axes>"
            ]
          },
          "metadata": {
            "tags": [],
            "needs_background": "light"
          }
        }
      ]
    },
    {
      "cell_type": "markdown",
      "metadata": {
        "id": "pB-Hx-OFbzJC"
      },
      "source": [
        "### Part (c) -- 2pt\n",
        "\n",
        "Modify the image by adding a constant value of 0.25 to each pixel in the `img` and\n",
        "store the result in the variable `img_add`. Note that, since the range for the pixels \n",
        "needs to be between [0, 1], you will also need to clip img_add to be in the range [0, 1] \n",
        "using `numpy.clip`. Clipping sets any value that is outside of the desired range to the \n",
        "closest endpoint. Display the image using `plt.imshow`."
      ]
    },
    {
      "cell_type": "code",
      "metadata": {
        "colab": {
          "base_uri": "https://localhost:8080/"
        },
        "collapsed": true,
        "id": "GWBhZay2bzJC",
        "outputId": "65956905-5152-403d-de33-d14c43f3ecb4"
      },
      "source": [
        "#Modify the image by adding a constant value of 0.25 to each pixel\n",
        "img_add = np.array(img)\n",
        "img_add += 0.25\n",
        "\n",
        "#you will also need to clip img_add to be in the range [0, 1] using numpy.clip\n",
        "np.clip(img_add, a_min=0, a_max=1, out=img_add)\n",
        "plt.imshow(img_add)"
      ],
      "execution_count": null,
      "outputs": [
        {
          "output_type": "execute_result",
          "data": {
            "text/plain": [
              "<matplotlib.image.AxesImage at 0x7f2b0ad9dc88>"
            ]
          },
          "metadata": {
            "tags": []
          },
          "execution_count": 151
        },
        {
          "output_type": "display_data",
          "data": {
            "image/png": "[encoded data removed]",
            "text/plain": [
              "<Figure size 432x288 with 1 Axes>"
            ]
          },
          "metadata": {
            "tags": [],
            "needs_background": "light"
          }
        }
      ]
    },
    {
      "cell_type": "markdown",
      "metadata": {
        "id": "DeinKXBCbzJI"
      },
      "source": [
        "### Part (d) -- 2pt\n",
        "\n",
        "Crop the **original** image (`img` variable) to a 130 x 150 image including Mochi's face. Discard the alpha colour channel (i.e. resulting `img_cropped` should **only have RGB channels**)\n",
        "\n",
        "Display the image."
      ]
    },
    {
      "cell_type": "code",
      "metadata": {
        "colab": {
          "base_uri": "https://localhost:8080/"
        },
        "id": "e3M9nYNGhhaa",
        "outputId": "87f997c4-a934-408e-fb4f-cb587317ada5"
      },
      "source": [
        "#the first dimension indicates the Y (row) direction, and the second dimension indicates the X (column) dimension.\n",
        "img_cropped = img[10:140, 10:160, 0:3]    #red[:,:,0], green[:,:,1], blue[:,:,2] \n",
        "plt.imshow(img_cropped)"
      ],
      "execution_count": null,
      "outputs": [
        {
          "output_type": "execute_result",
          "data": {
            "text/plain": [
              "<matplotlib.image.AxesImage at 0x7f2b0b6ccf60>"
            ]
          },
          "metadata": {
            "tags": []
          },
          "execution_count": 152
        },
        {
          "output_type": "display_data",
          "data": {
            "image/png": "[encoded data removed]",
            "text/plain": [
              "<Figure size 432x288 with 1 Axes>"
            ]
          },
          "metadata": {
            "tags": [],
            "needs_background": "light"
          }
        }
      ]
    },
    {
      "cell_type": "markdown",
      "metadata": {
        "id": "FmfE9CQdIGva"
      },
      "source": [
        "## Part 4. Basics of PyTorch [6 pt]\n",
        "\n",
        "PyTorch is a Python-based neural networks package. Along with tensorflow, PyTorch is currently one of the most popular machine learning libraries.\n",
        "\n",
        "PyTorch, at its core, is similar to Numpy in a sense that they both \n",
        "try to make it easier to write codes for scientific computing\n",
        "achieve improved performance over vanilla Python by leveraging highly optimized C back-end.\n",
        "However, compare to Numpy, PyTorch offers much better GPU support and provides many high-level features for machine learning. Technically, Numpy can be used to perform almost every thing PyTorch does. However, Numpy would be a lot slower than PyTorch, especially with CUDA GPU, and it would take more effort to write machine learning related code compared to using PyTorch."
      ]
    },
    {
      "cell_type": "code",
      "metadata": {
        "collapsed": true,
        "id": "ppRPK-X2IGvb"
      },
      "source": [
        "import torch"
      ],
      "execution_count": null,
      "outputs": []
    },
    {
      "cell_type": "markdown",
      "metadata": {
        "id": "DXrczIrSIGvf"
      },
      "source": [
        "### Part (a) -- 1 pt\n",
        "\n",
        "Use the function `torch.from_numpy` to convert the numpy array `img_cropped` into\n",
        "a PyTorch tensor. Save the result in a variable called `img_torch`."
      ]
    },
    {
      "cell_type": "code",
      "metadata": {
        "collapsed": true,
        "id": "j9rYyf4gIGvj"
      },
      "source": [
        "img_torch = torch.from_numpy(img_cropped)"
      ],
      "execution_count": null,
      "outputs": []
    },
    {
      "cell_type": "markdown",
      "metadata": {
        "id": "zrpPeRKtIGvn"
      },
      "source": [
        "### Part (b) -- 1pt\n",
        "\n",
        "Use the method `<Tensor>.shape` to find the shape (dimension and size) of `img_torch`."
      ]
    },
    {
      "cell_type": "code",
      "metadata": {
        "colab": {
          "base_uri": "https://localhost:8080/"
        },
        "collapsed": true,
        "id": "ws7G_aaxIGvn",
        "outputId": "463df7db-e55d-49e4-e35e-69e69cf8e164"
      },
      "source": [
        "img_torch.shape"
      ],
      "execution_count": null,
      "outputs": [
        {
          "output_type": "execute_result",
          "data": {
            "text/plain": [
              "torch.Size([130, 150, 3])"
            ]
          },
          "metadata": {
            "tags": []
          },
          "execution_count": 155
        }
      ]
    },
    {
      "cell_type": "markdown",
      "metadata": {
        "id": "uorV8t1pIGvp"
      },
      "source": [
        "### Part (c) -- 1pt\n",
        "\n",
        "How many floating-point numbers are stored in the tensor `img_torch`?"
      ]
    },
    {
      "cell_type": "code",
      "metadata": {
        "colab": {
          "base_uri": "https://localhost:8080/"
        },
        "collapsed": true,
        "id": "sucaE_VCIGvq",
        "outputId": "2aa69bcb-e4c1-4310-f1c4-3891e984e614"
      },
      "source": [
        "num = 1;\n",
        "for i in range(0, len(img_torch.shape)):\n",
        "  num *= img_torch.shape[i]\n",
        "print(num)"
      ],
      "execution_count": null,
      "outputs": [
        {
          "output_type": "stream",
          "text": [
            "58500\n"
          ],
          "name": "stdout"
        }
      ]
    },
    {
      "cell_type": "markdown",
      "metadata": {
        "id": "sIcXGdg5IGvu"
      },
      "source": [
        "### Part (d) -- 1 pt\n",
        "\n",
        "What does the code `img_torch.transpose(0,2)` do? What does the expression return? \n",
        "Is the original variable `img_torch` updated? Explain."
      ]
    },
    {
      "cell_type": "markdown",
      "metadata": {
        "id": "gdquw9ke0-pQ"
      },
      "source": [
        "Answer:\n",
        "\n",
        "  As we can see from the output below, the code `img_torch.transpose(0,2)` is for transposing the given tensor array and it will print out or generate the transpose nd-array of the original nd-array. The original variable `img_torch` has not been updated.\n",
        "\n",
        "  The original img_torch has the size of [130,150,3] , after calling the transpose(0,2) function, the new nd-array becomes [3,150,130] with the original remains unchanged."
      ]
    },
    {
      "cell_type": "code",
      "metadata": {
        "colab": {
          "base_uri": "https://localhost:8080/"
        },
        "id": "omOJqIhEIGvu",
        "outputId": "ffb6b187-5243-4f01-d1b9-1e7d446b3391"
      },
      "source": [
        "print(\"--------------------------------------original nd-array--------------------\")\n",
        "print(img_torch)\n",
        "print(img_torch.shape)\n",
        "print(id(img_torch))\n",
        "print(\"--------------------------------------transposed nd-array--------------------\")\n",
        "print(img_torch.transpose(0,2))\n",
        "print(img_torch.transpose(0,2).shape)\n",
        "print(id(img_torch.transpose(0,2)))\n",
        "print(\"--------------------------------------check if the orignal nd-array is updated--------------------\")\n",
        "print(img_torch)\n",
        "print(img_torch.shape)\n",
        "print(id(img_torch))\n",
        "\n"
      ],
      "execution_count": null,
      "outputs": [
        {
          "output_type": "stream",
          "text": [
            "--------------------------------------original nd-array--------------------\n",
            "tensor([[[0.5529, 0.3412, 0.0588],\n",
            "         [0.5569, 0.3412, 0.0784],\n",
            "         [0.5725, 0.3529, 0.1137],\n",
            "         ...,\n",
            "         [0.5098, 0.2431, 0.0980],\n",
            "         [0.5373, 0.2627, 0.1216],\n",
            "         [0.5216, 0.2471, 0.1059]],\n",
            "\n",
            "        [[0.5529, 0.3412, 0.0588],\n",
            "         [0.5647, 0.3490, 0.0863],\n",
            "         [0.5804, 0.3647, 0.1137],\n",
            "         ...,\n",
            "         [0.5020, 0.2353, 0.0902],\n",
            "         [0.5216, 0.2471, 0.1059],\n",
            "         [0.5059, 0.2314, 0.0902]],\n",
            "\n",
            "        [[0.5451, 0.3451, 0.1216],\n",
            "         [0.5608, 0.3608, 0.1451],\n",
            "         [0.5725, 0.3686, 0.1725],\n",
            "         ...,\n",
            "         [0.4941, 0.2431, 0.0941],\n",
            "         [0.4745, 0.2235, 0.0745],\n",
            "         [0.4745, 0.2235, 0.0745]],\n",
            "\n",
            "        ...,\n",
            "\n",
            "        [[0.5922, 0.3725, 0.1804],\n",
            "         [0.5961, 0.3765, 0.1922],\n",
            "         [0.6000, 0.3804, 0.1961],\n",
            "         ...,\n",
            "         [0.5490, 0.4745, 0.4196],\n",
            "         [0.5176, 0.4392, 0.3961],\n",
            "         [0.4980, 0.4118, 0.3686]],\n",
            "\n",
            "        [[0.6000, 0.3804, 0.1961],\n",
            "         [0.6000, 0.3804, 0.1961],\n",
            "         [0.5961, 0.3725, 0.1961],\n",
            "         ...,\n",
            "         [0.5765, 0.5059, 0.4510],\n",
            "         [0.5725, 0.4941, 0.4510],\n",
            "         [0.5686, 0.4824, 0.4392]],\n",
            "\n",
            "        [[0.6039, 0.3804, 0.2039],\n",
            "         [0.6000, 0.3765, 0.2000],\n",
            "         [0.5922, 0.3686, 0.1922],\n",
            "         ...,\n",
            "         [0.6118, 0.5412, 0.4863],\n",
            "         [0.6078, 0.5294, 0.4863],\n",
            "         [0.6078, 0.5176, 0.4863]]])\n",
            "torch.Size([130, 150, 3])\n",
            "139822872695432\n",
            "--------------------------------------transposed nd-array--------------------\n",
            "tensor([[[0.5529, 0.5529, 0.5451,  ..., 0.5922, 0.6000, 0.6039],\n",
            "         [0.5569, 0.5647, 0.5608,  ..., 0.5961, 0.6000, 0.6000],\n",
            "         [0.5725, 0.5804, 0.5725,  ..., 0.6000, 0.5961, 0.5922],\n",
            "         ...,\n",
            "         [0.5098, 0.5020, 0.4941,  ..., 0.5490, 0.5765, 0.6118],\n",
            "         [0.5373, 0.5216, 0.4745,  ..., 0.5176, 0.5725, 0.6078],\n",
            "         [0.5216, 0.5059, 0.4745,  ..., 0.4980, 0.5686, 0.6078]],\n",
            "\n",
            "        [[0.3412, 0.3412, 0.3451,  ..., 0.3725, 0.3804, 0.3804],\n",
            "         [0.3412, 0.3490, 0.3608,  ..., 0.3765, 0.3804, 0.3765],\n",
            "         [0.3529, 0.3647, 0.3686,  ..., 0.3804, 0.3725, 0.3686],\n",
            "         ...,\n",
            "         [0.2431, 0.2353, 0.2431,  ..., 0.4745, 0.5059, 0.5412],\n",
            "         [0.2627, 0.2471, 0.2235,  ..., 0.4392, 0.4941, 0.5294],\n",
            "         [0.2471, 0.2314, 0.2235,  ..., 0.4118, 0.4824, 0.5176]],\n",
            "\n",
            "        [[0.0588, 0.0588, 0.1216,  ..., 0.1804, 0.1961, 0.2039],\n",
            "         [0.0784, 0.0863, 0.1451,  ..., 0.1922, 0.1961, 0.2000],\n",
            "         [0.1137, 0.1137, 0.1725,  ..., 0.1961, 0.1961, 0.1922],\n",
            "         ...,\n",
            "         [0.0980, 0.0902, 0.0941,  ..., 0.4196, 0.4510, 0.4863],\n",
            "         [0.1216, 0.1059, 0.0745,  ..., 0.3961, 0.4510, 0.4863],\n",
            "         [0.1059, 0.0902, 0.0745,  ..., 0.3686, 0.4392, 0.4863]]])\n",
            "torch.Size([3, 150, 130])\n",
            "139822841126488\n",
            "--------------------------------------check if the orignal nd-array is updated--------------------\n",
            "tensor([[[0.5529, 0.3412, 0.0588],\n",
            "         [0.5569, 0.3412, 0.0784],\n",
            "         [0.5725, 0.3529, 0.1137],\n",
            "         ...,\n",
            "         [0.5098, 0.2431, 0.0980],\n",
            "         [0.5373, 0.2627, 0.1216],\n",
            "         [0.5216, 0.2471, 0.1059]],\n",
            "\n",
            "        [[0.5529, 0.3412, 0.0588],\n",
            "         [0.5647, 0.3490, 0.0863],\n",
            "         [0.5804, 0.3647, 0.1137],\n",
            "         ...,\n",
            "         [0.5020, 0.2353, 0.0902],\n",
            "         [0.5216, 0.2471, 0.1059],\n",
            "         [0.5059, 0.2314, 0.0902]],\n",
            "\n",
            "        [[0.5451, 0.3451, 0.1216],\n",
            "         [0.5608, 0.3608, 0.1451],\n",
            "         [0.5725, 0.3686, 0.1725],\n",
            "         ...,\n",
            "         [0.4941, 0.2431, 0.0941],\n",
            "         [0.4745, 0.2235, 0.0745],\n",
            "         [0.4745, 0.2235, 0.0745]],\n",
            "\n",
            "        ...,\n",
            "\n",
            "        [[0.5922, 0.3725, 0.1804],\n",
            "         [0.5961, 0.3765, 0.1922],\n",
            "         [0.6000, 0.3804, 0.1961],\n",
            "         ...,\n",
            "         [0.5490, 0.4745, 0.4196],\n",
            "         [0.5176, 0.4392, 0.3961],\n",
            "         [0.4980, 0.4118, 0.3686]],\n",
            "\n",
            "        [[0.6000, 0.3804, 0.1961],\n",
            "         [0.6000, 0.3804, 0.1961],\n",
            "         [0.5961, 0.3725, 0.1961],\n",
            "         ...,\n",
            "         [0.5765, 0.5059, 0.4510],\n",
            "         [0.5725, 0.4941, 0.4510],\n",
            "         [0.5686, 0.4824, 0.4392]],\n",
            "\n",
            "        [[0.6039, 0.3804, 0.2039],\n",
            "         [0.6000, 0.3765, 0.2000],\n",
            "         [0.5922, 0.3686, 0.1922],\n",
            "         ...,\n",
            "         [0.6118, 0.5412, 0.4863],\n",
            "         [0.6078, 0.5294, 0.4863],\n",
            "         [0.6078, 0.5176, 0.4863]]])\n",
            "torch.Size([130, 150, 3])\n",
            "139822872695432\n"
          ],
          "name": "stdout"
        }
      ]
    },
    {
      "cell_type": "markdown",
      "metadata": {
        "id": "lHrzC0EqIGvx"
      },
      "source": [
        "### Part (e) -- 1 pt\n",
        "\n",
        "What does the code `img_torch.unsqueeze(0)` do? What does the expression return? \n",
        "Is the original variable `img_torch` updated? Explain."
      ]
    },
    {
      "cell_type": "markdown",
      "metadata": {
        "id": "2Eh1Ns0O4ji-"
      },
      "source": [
        "Answer:\n",
        "\n",
        "  As we can see from the output below, the code `img_torch.unsqueeze(0)` is for adding one dimension the given tensor array and it will print out or generate the (n+1)d-array of the original nd-array. The original variable `img_torch` has not been updated.\n",
        "\n",
        "  The original img_torch has the size of  [130,150,3] , after calling the unsqueeze(0) function, the new nd-array becomes [1,130,150,3]  with the original remains unchanged."
      ]
    },
    {
      "cell_type": "code",
      "metadata": {
        "colab": {
          "base_uri": "https://localhost:8080/"
        },
        "collapsed": true,
        "id": "ZFePj7E5IGvz",
        "outputId": "cf515753-4bba-4de0-fd56-920f7539a95e"
      },
      "source": [
        "print(\"--------------------------------------original nd-array--------------------\")\n",
        "print(img_torch)\n",
        "print(img_torch.shape)\n",
        "print(id(img_torch))\n",
        "print(\"--------------------------------------new (n+1)d-array--------------------\")\n",
        "print(img_torch.unsqueeze(0))\n",
        "print(img_torch.unsqueeze(0).shape)\n",
        "print(id(img_torch.unsqueeze(0)))\n",
        "print(\"--------------------------------------check if the orignal nd-array is updated--------------------\")\n",
        "print(img_torch)\n",
        "print(img_torch.shape)\n",
        "print(id(img_torch))"
      ],
      "execution_count": null,
      "outputs": [
        {
          "output_type": "stream",
          "text": [
            "--------------------------------------original nd-array--------------------\n",
            "tensor([[[0.5529, 0.3412, 0.0588],\n",
            "         [0.5569, 0.3412, 0.0784],\n",
            "         [0.5725, 0.3529, 0.1137],\n",
            "         ...,\n",
            "         [0.5098, 0.2431, 0.0980],\n",
            "         [0.5373, 0.2627, 0.1216],\n",
            "         [0.5216, 0.2471, 0.1059]],\n",
            "\n",
            "        [[0.5529, 0.3412, 0.0588],\n",
            "         [0.5647, 0.3490, 0.0863],\n",
            "         [0.5804, 0.3647, 0.1137],\n",
            "         ...,\n",
            "         [0.5020, 0.2353, 0.0902],\n",
            "         [0.5216, 0.2471, 0.1059],\n",
            "         [0.5059, 0.2314, 0.0902]],\n",
            "\n",
            "        [[0.5451, 0.3451, 0.1216],\n",
            "         [0.5608, 0.3608, 0.1451],\n",
            "         [0.5725, 0.3686, 0.1725],\n",
            "         ...,\n",
            "         [0.4941, 0.2431, 0.0941],\n",
            "         [0.4745, 0.2235, 0.0745],\n",
            "         [0.4745, 0.2235, 0.0745]],\n",
            "\n",
            "        ...,\n",
            "\n",
            "        [[0.5922, 0.3725, 0.1804],\n",
            "         [0.5961, 0.3765, 0.1922],\n",
            "         [0.6000, 0.3804, 0.1961],\n",
            "         ...,\n",
            "         [0.5490, 0.4745, 0.4196],\n",
            "         [0.5176, 0.4392, 0.3961],\n",
            "         [0.4980, 0.4118, 0.3686]],\n",
            "\n",
            "        [[0.6000, 0.3804, 0.1961],\n",
            "         [0.6000, 0.3804, 0.1961],\n",
            "         [0.5961, 0.3725, 0.1961],\n",
            "         ...,\n",
            "         [0.5765, 0.5059, 0.4510],\n",
            "         [0.5725, 0.4941, 0.4510],\n",
            "         [0.5686, 0.4824, 0.4392]],\n",
            "\n",
            "        [[0.6039, 0.3804, 0.2039],\n",
            "         [0.6000, 0.3765, 0.2000],\n",
            "         [0.5922, 0.3686, 0.1922],\n",
            "         ...,\n",
            "         [0.6118, 0.5412, 0.4863],\n",
            "         [0.6078, 0.5294, 0.4863],\n",
            "         [0.6078, 0.5176, 0.4863]]])\n",
            "torch.Size([130, 150, 3])\n",
            "139822872695432\n",
            "--------------------------------------new (n+1)d-array--------------------\n",
            "tensor([[[[0.5529, 0.3412, 0.0588],\n",
            "          [0.5569, 0.3412, 0.0784],\n",
            "          [0.5725, 0.3529, 0.1137],\n",
            "          ...,\n",
            "          [0.5098, 0.2431, 0.0980],\n",
            "          [0.5373, 0.2627, 0.1216],\n",
            "          [0.5216, 0.2471, 0.1059]],\n",
            "\n",
            "         [[0.5529, 0.3412, 0.0588],\n",
            "          [0.5647, 0.3490, 0.0863],\n",
            "          [0.5804, 0.3647, 0.1137],\n",
            "          ...,\n",
            "          [0.5020, 0.2353, 0.0902],\n",
            "          [0.5216, 0.2471, 0.1059],\n",
            "          [0.5059, 0.2314, 0.0902]],\n",
            "\n",
            "         [[0.5451, 0.3451, 0.1216],\n",
            "          [0.5608, 0.3608, 0.1451],\n",
            "          [0.5725, 0.3686, 0.1725],\n",
            "          ...,\n",
            "          [0.4941, 0.2431, 0.0941],\n",
            "          [0.4745, 0.2235, 0.0745],\n",
            "          [0.4745, 0.2235, 0.0745]],\n",
            "\n",
            "         ...,\n",
            "\n",
            "         [[0.5922, 0.3725, 0.1804],\n",
            "          [0.5961, 0.3765, 0.1922],\n",
            "          [0.6000, 0.3804, 0.1961],\n",
            "          ...,\n",
            "          [0.5490, 0.4745, 0.4196],\n",
            "          [0.5176, 0.4392, 0.3961],\n",
            "          [0.4980, 0.4118, 0.3686]],\n",
            "\n",
            "         [[0.6000, 0.3804, 0.1961],\n",
            "          [0.6000, 0.3804, 0.1961],\n",
            "          [0.5961, 0.3725, 0.1961],\n",
            "          ...,\n",
            "          [0.5765, 0.5059, 0.4510],\n",
            "          [0.5725, 0.4941, 0.4510],\n",
            "          [0.5686, 0.4824, 0.4392]],\n",
            "\n",
            "         [[0.6039, 0.3804, 0.2039],\n",
            "          [0.6000, 0.3765, 0.2000],\n",
            "          [0.5922, 0.3686, 0.1922],\n",
            "          ...,\n",
            "          [0.6118, 0.5412, 0.4863],\n",
            "          [0.6078, 0.5294, 0.4863],\n",
            "          [0.6078, 0.5176, 0.4863]]]])\n",
            "torch.Size([1, 130, 150, 3])\n",
            "139822884090144\n",
            "--------------------------------------check if the orignal nd-array is updated--------------------\n",
            "tensor([[[0.5529, 0.3412, 0.0588],\n",
            "         [0.5569, 0.3412, 0.0784],\n",
            "         [0.5725, 0.3529, 0.1137],\n",
            "         ...,\n",
            "         [0.5098, 0.2431, 0.0980],\n",
            "         [0.5373, 0.2627, 0.1216],\n",
            "         [0.5216, 0.2471, 0.1059]],\n",
            "\n",
            "        [[0.5529, 0.3412, 0.0588],\n",
            "         [0.5647, 0.3490, 0.0863],\n",
            "         [0.5804, 0.3647, 0.1137],\n",
            "         ...,\n",
            "         [0.5020, 0.2353, 0.0902],\n",
            "         [0.5216, 0.2471, 0.1059],\n",
            "         [0.5059, 0.2314, 0.0902]],\n",
            "\n",
            "        [[0.5451, 0.3451, 0.1216],\n",
            "         [0.5608, 0.3608, 0.1451],\n",
            "         [0.5725, 0.3686, 0.1725],\n",
            "         ...,\n",
            "         [0.4941, 0.2431, 0.0941],\n",
            "         [0.4745, 0.2235, 0.0745],\n",
            "         [0.4745, 0.2235, 0.0745]],\n",
            "\n",
            "        ...,\n",
            "\n",
            "        [[0.5922, 0.3725, 0.1804],\n",
            "         [0.5961, 0.3765, 0.1922],\n",
            "         [0.6000, 0.3804, 0.1961],\n",
            "         ...,\n",
            "         [0.5490, 0.4745, 0.4196],\n",
            "         [0.5176, 0.4392, 0.3961],\n",
            "         [0.4980, 0.4118, 0.3686]],\n",
            "\n",
            "        [[0.6000, 0.3804, 0.1961],\n",
            "         [0.6000, 0.3804, 0.1961],\n",
            "         [0.5961, 0.3725, 0.1961],\n",
            "         ...,\n",
            "         [0.5765, 0.5059, 0.4510],\n",
            "         [0.5725, 0.4941, 0.4510],\n",
            "         [0.5686, 0.4824, 0.4392]],\n",
            "\n",
            "        [[0.6039, 0.3804, 0.2039],\n",
            "         [0.6000, 0.3765, 0.2000],\n",
            "         [0.5922, 0.3686, 0.1922],\n",
            "         ...,\n",
            "         [0.6118, 0.5412, 0.4863],\n",
            "         [0.6078, 0.5294, 0.4863],\n",
            "         [0.6078, 0.5176, 0.4863]]])\n",
            "torch.Size([130, 150, 3])\n",
            "139822872695432\n"
          ],
          "name": "stdout"
        }
      ]
    },
    {
      "cell_type": "markdown",
      "metadata": {
        "id": "re16jTB9IGv0"
      },
      "source": [
        "### Part (f) -- 1 pt\n",
        "\n",
        "Find the maximum value of `img_torch` along each colour channel? Your output should be a one-dimensional\n",
        "PyTorch tensor with exactly three values.\n",
        "\n",
        "Hint: lookup the function `torch.max`."
      ]
    },
    {
      "cell_type": "code",
      "metadata": {
        "colab": {
          "base_uri": "https://localhost:8080/"
        },
        "id": "tHx5h4FA5q_G",
        "outputId": "ea0eb894-e564-497b-9331-3d42be967af0"
      },
      "source": [
        "#Returns the maximum value of all elements in the input tensor.\n",
        "max_lst = [0]*3\n",
        "max_lst[0] = torch.max(img_torch[:,:,0]) #R\n",
        "max_lst[1] = torch.max(img_torch[:,:,1]) #G\n",
        "max_lst[2] = torch.max(img_torch[:,:,2]) #B\n",
        "print(max_lst)"
      ],
      "execution_count": null,
      "outputs": [
        {
          "output_type": "stream",
          "text": [
            "[tensor(0.8941), tensor(0.7882), tensor(0.6745)]\n"
          ],
          "name": "stdout"
        }
      ]
    },
    {
      "cell_type": "markdown",
      "metadata": {
        "id": "3hhA2sX0au0D"
      },
      "source": [
        "## Part 5. Training an ANN [10 pt]\n",
        "\n",
        "The sample code provided below is a 2-layer ANN trained on the MNIST dataset to identify digits less than 3 or greater than and equal to 3. Modify the code by changing any of the following and observe how the accuracy and error are affected:\n",
        "\n",
        "- number of training iterations\n",
        "- number of hidden units\n",
        "- numbers of layers\n",
        "- types of activation functions\n",
        "- learning rate\n",
        "\n"
      ]
    },
    {
      "cell_type": "markdown",
      "metadata": {
        "id": "8uYOzBrskDcv"
      },
      "source": [
        "####Original sample code:\n",
        "*   Training Accuracy: 0.964\n",
        "*   Test Accuracy: 0.921"
      ]
    },
    {
      "cell_type": "code",
      "metadata": {
        "collapsed": true,
        "id": "GGtthiz1tDh5",
        "colab": {
          "base_uri": "https://localhost:8080/"
        },
        "outputId": "24a5700d-45db-4c87-fba3-6fb652befe2e"
      },
      "source": [
        "import torch\n",
        "import torch.nn as nn\n",
        "import torch.nn.functional as F\n",
        "from torchvision import datasets, transforms\n",
        "import matplotlib.pyplot as plt # for plotting\n",
        "import torch.optim as optim\n",
        "\n",
        "torch.manual_seed(1) # set the random seed\n",
        "\n",
        "# define a 2-layer artificial neural network\n",
        "class Pigeon(nn.Module):\n",
        "    def __init__(self):\n",
        "        super(Pigeon, self).__init__()\n",
        "        self.layer1 = nn.Linear(28 * 28, 30)\n",
        "        self.layer2 = nn.Linear(30, 1)\n",
        "    def forward(self, img):\n",
        "        flattened = img.view(-1, 28 * 28)\n",
        "        activation1 = self.layer1(flattened)\n",
        "        activation1 = F.relu(activation1)\n",
        "        activation2 = self.layer2(activation1)\n",
        "        return activation2\n",
        "\n",
        "pigeon = Pigeon()\n",
        "\n",
        "# load the data\n",
        "mnist_data = datasets.MNIST('data', train=True, download=True)\n",
        "mnist_data = list(mnist_data)\n",
        "mnist_train = mnist_data[:1000]\n",
        "mnist_val   = mnist_data[1000:2000]\n",
        "img_to_tensor = transforms.ToTensor()\n",
        "      \n",
        "    \n",
        "# simplified training code to train `pigeon` on the \"small digit recognition\" task\n",
        "criterion = nn.BCEWithLogitsLoss()\n",
        "optimizer = optim.SGD(pigeon.parameters(), lr=0.005, momentum=0.9)\n",
        "\n",
        "for (image, label) in mnist_train:\n",
        "    # actual ground truth: is the digit less than 3?\n",
        "    actual = torch.tensor(label < 3).reshape([1,1]).type(torch.FloatTensor)\n",
        "    # pigeon prediction\n",
        "    out = pigeon(img_to_tensor(image)) # step 1-2\n",
        "    # update the parameters based on the loss\n",
        "    loss = criterion(out, actual)      # step 3\n",
        "    loss.backward()                    # step 4 (compute the updates for each parameter)\n",
        "    optimizer.step()                   # step 4 (make the updates for each parameter)\n",
        "    optimizer.zero_grad()              # a clean up step for PyTorch\n",
        "\n",
        "# computing the error and accuracy on the training set\n",
        "error = 0\n",
        "for (image, label) in mnist_train:\n",
        "    prob = torch.sigmoid(pigeon(img_to_tensor(image)))\n",
        "    if (prob < 0.5 and label < 3) or (prob >= 0.5 and label >= 3):\n",
        "        error += 1\n",
        "print(\"Training Error Rate:\", error/len(mnist_train))\n",
        "print(\"Training Accuracy:\", 1 - error/len(mnist_train))\n",
        "\n",
        "\n",
        "# computing the error and accuracy on a test set\n",
        "error = 0\n",
        "for (image, label) in mnist_val:\n",
        "    prob = torch.sigmoid(pigeon(img_to_tensor(image)))\n",
        "    if (prob < 0.5 and label < 3) or (prob >= 0.5 and label >= 3):\n",
        "        error += 1\n",
        "print(\"Test Error Rate:\", error/len(mnist_val))\n",
        "print(\"Test Accuracy:\", 1 - error/len(mnist_val))"
      ],
      "execution_count": null,
      "outputs": [
        {
          "output_type": "stream",
          "text": [
            "Training Error Rate: 0.036\n",
            "Training Accuracy: 0.964\n",
            "Test Error Rate: 0.079\n",
            "Test Accuracy: 0.921\n"
          ],
          "name": "stdout"
        }
      ]
    },
    {
      "cell_type": "markdown",
      "metadata": {
        "id": "CSznZ1hHhB1X"
      },
      "source": [
        "####Trail 1: number of training iterations\n",
        "*   I tried by increasing the number of training iterations to 10.\n",
        "*   Training Accuracy: 0.999\n",
        "*   Test Accuracy: 0.9410000000000001\n",
        "\n",
        "\n",
        "\n",
        "\n",
        "\n",
        "\n"
      ]
    },
    {
      "cell_type": "code",
      "metadata": {
        "colab": {
          "base_uri": "https://localhost:8080/"
        },
        "id": "c9F6hNw3hKLk",
        "outputId": "b6104380-8b44-4e67-e401-dfb564d5b58b"
      },
      "source": [
        "import torch\n",
        "import torch.nn as nn\n",
        "import torch.nn.functional as F\n",
        "from torchvision import datasets, transforms\n",
        "import matplotlib.pyplot as plt # for plotting\n",
        "import torch.optim as optim\n",
        "\n",
        "torch.manual_seed(1) # set the random seed\n",
        "\n",
        "# define a 2-layer artificial neural network\n",
        "class Pigeon(nn.Module):\n",
        "    def __init__(self):\n",
        "        super(Pigeon, self).__init__()\n",
        "        self.layer1 = nn.Linear(28 * 28, 30)\n",
        "        self.layer2 = nn.Linear(30, 1)\n",
        "    def forward(self, img):\n",
        "        flattened = img.view(-1, 28 * 28)\n",
        "        activation1 = self.layer1(flattened)\n",
        "        activation1 = F.relu(activation1)\n",
        "        activation2 = self.layer2(activation1)\n",
        "        return activation2\n",
        "\n",
        "pigeon = Pigeon()\n",
        "\n",
        "# load the data\n",
        "mnist_data = datasets.MNIST('data', train=True, download=True)\n",
        "mnist_data = list(mnist_data)\n",
        "mnist_train = mnist_data[:1000]\n",
        "mnist_val   = mnist_data[1000:2000]\n",
        "img_to_tensor = transforms.ToTensor()\n",
        "      \n",
        "    \n",
        "# simplified training code to train `pigeon` on the \"small digit recognition\" task\n",
        "criterion = nn.BCEWithLogitsLoss()\n",
        "optimizer = optim.SGD(pigeon.parameters(), lr=0.005, momentum=0.9)\n",
        "\n",
        "for i in range(10):\n",
        "    for (image, label) in mnist_train:\n",
        "        # actual ground truth: is the digit less than 3?\n",
        "        actual = torch.tensor(label < 3).reshape([1,1]).type(torch.FloatTensor)\n",
        "        # pigeon prediction\n",
        "        out = pigeon(img_to_tensor(image)) # step 1-2\n",
        "        # update the parameters based on the loss\n",
        "        loss = criterion(out, actual)      # step 3\n",
        "        loss.backward()                    # step 4 (compute the updates for each parameter)\n",
        "        optimizer.step()                   # step 4 (make the updates for each parameter)\n",
        "        optimizer.zero_grad()              # a clean up step for PyTorch\n",
        "\n",
        "# computing the error and accuracy on the training set\n",
        "error = 0\n",
        "for (image, label) in mnist_train:\n",
        "    prob = torch.sigmoid(pigeon(img_to_tensor(image)))\n",
        "    if (prob < 0.5 and label < 3) or (prob >= 0.5 and label >= 3):\n",
        "        error += 1\n",
        "print(\"Training Error Rate:\", error/len(mnist_train))\n",
        "print(\"Training Accuracy:\", 1 - error/len(mnist_train))\n",
        "\n",
        "\n",
        "# computing the error and accuracy on a test set\n",
        "error = 0\n",
        "for (image, label) in mnist_val:\n",
        "    prob = torch.sigmoid(pigeon(img_to_tensor(image)))\n",
        "    if (prob < 0.5 and label < 3) or (prob >= 0.5 and label >= 3):\n",
        "        error += 1\n",
        "print(\"Test Error Rate:\", error/len(mnist_val))\n",
        "print(\"Test Accuracy:\", 1 - error/len(mnist_val))"
      ],
      "execution_count": null,
      "outputs": [
        {
          "output_type": "stream",
          "text": [
            "Training Error Rate: 0.001\n",
            "Training Accuracy: 0.999\n",
            "Test Error Rate: 0.059\n",
            "Test Accuracy: 0.9410000000000001\n"
          ],
          "name": "stdout"
        }
      ]
    },
    {
      "cell_type": "markdown",
      "metadata": {
        "id": "tlOPFmpJib0f"
      },
      "source": [
        "####Trail 2: number of hidden units\n",
        "*   I tried by substuting the original hidden units from 30 to 100 on the first layer.\n",
        "*   Training Accuracy: 0.97\n",
        "*   Test Accuracy: 0.923\n",
        "\n"
      ]
    },
    {
      "cell_type": "code",
      "metadata": {
        "colab": {
          "base_uri": "https://localhost:8080/"
        },
        "id": "rOGkaoJqj2HK",
        "outputId": "4398f5d1-4f5d-4a8b-a3ad-baeb413fe3a5"
      },
      "source": [
        "import torch\n",
        "import torch.nn as nn\n",
        "import torch.nn.functional as F\n",
        "from torchvision import datasets, transforms\n",
        "import matplotlib.pyplot as plt # for plotting\n",
        "import torch.optim as optim\n",
        "\n",
        "torch.manual_seed(1) # set the random seed\n",
        "\n",
        "# define a 2-layer artificial neural network\n",
        "class Pigeon(nn.Module):\n",
        "    def __init__(self):\n",
        "        super(Pigeon, self).__init__()\n",
        "        self.layer1 = nn.Linear(28 * 28, 100)\n",
        "        self.layer2 = nn.Linear(100, 1)\n",
        "    def forward(self, img):\n",
        "        flattened = img.view(-1, 28 * 28)\n",
        "        activation1 = self.layer1(flattened)\n",
        "        activation1 = F.relu(activation1)\n",
        "        activation2 = self.layer2(activation1)\n",
        "        return activation2\n",
        "\n",
        "pigeon = Pigeon()\n",
        "\n",
        "# load the data\n",
        "mnist_data = datasets.MNIST('data', train=True, download=True)\n",
        "mnist_data = list(mnist_data)\n",
        "mnist_train = mnist_data[:1000]\n",
        "mnist_val   = mnist_data[1000:2000]\n",
        "img_to_tensor = transforms.ToTensor()\n",
        "      \n",
        "    \n",
        "# simplified training code to train `pigeon` on the \"small digit recognition\" task\n",
        "criterion = nn.BCEWithLogitsLoss()\n",
        "optimizer = optim.SGD(pigeon.parameters(), lr=0.005, momentum=0.9)\n",
        "\n",
        "for (image, label) in mnist_train:\n",
        "    # actual ground truth: is the digit less than 3?\n",
        "    actual = torch.tensor(label < 3).reshape([1,1]).type(torch.FloatTensor)\n",
        "    # pigeon prediction\n",
        "    out = pigeon(img_to_tensor(image)) # step 1-2\n",
        "    # update the parameters based on the loss\n",
        "    loss = criterion(out, actual)      # step 3\n",
        "    loss.backward()                    # step 4 (compute the updates for each parameter)\n",
        "    optimizer.step()                   # step 4 (make the updates for each parameter)\n",
        "    optimizer.zero_grad()              # a clean up step for PyTorch\n",
        "\n",
        "# computing the error and accuracy on the training set\n",
        "error = 0\n",
        "for (image, label) in mnist_train:\n",
        "    prob = torch.sigmoid(pigeon(img_to_tensor(image)))\n",
        "    if (prob < 0.5 and label < 3) or (prob >= 0.5 and label >= 3):\n",
        "        error += 1\n",
        "print(\"Training Error Rate:\", error/len(mnist_train))\n",
        "print(\"Training Accuracy:\", 1 - error/len(mnist_train))\n",
        "\n",
        "\n",
        "# computing the error and accuracy on a test set\n",
        "error = 0\n",
        "for (image, label) in mnist_val:\n",
        "    prob = torch.sigmoid(pigeon(img_to_tensor(image)))\n",
        "    if (prob < 0.5 and label < 3) or (prob >= 0.5 and label >= 3):\n",
        "        error += 1\n",
        "print(\"Test Error Rate:\", error/len(mnist_val))\n",
        "print(\"Test Accuracy:\", 1 - error/len(mnist_val))"
      ],
      "execution_count": null,
      "outputs": [
        {
          "output_type": "stream",
          "text": [
            "Training Error Rate: 0.03\n",
            "Training Accuracy: 0.97\n",
            "Test Error Rate: 0.077\n",
            "Test Accuracy: 0.923\n"
          ],
          "name": "stdout"
        }
      ]
    },
    {
      "cell_type": "markdown",
      "metadata": {
        "id": "9shC958rjetd"
      },
      "source": [
        "####Trail 3: numbers of layers\n",
        "*   I tried by adding one layer to the model, which becomes 3 layers.\n",
        "*   Training Accuracy: 0.959\n",
        "*   Test Accuracy: 0.9\n",
        "\n",
        "If the model is more complex with more training data sets, by increasing the number of layers will have positive effects on the accuracy. However, for simple models or for a model that has sufficient amount of layers, if we applied more layers to it, it will decrease the accuracy. \n"
      ]
    },
    {
      "cell_type": "code",
      "metadata": {
        "colab": {
          "base_uri": "https://localhost:8080/"
        },
        "id": "D5kYKa1ej3B1",
        "outputId": "426ce049-7962-4150-94c4-ac9fc262014f"
      },
      "source": [
        "import torch\n",
        "import torch.nn as nn\n",
        "import torch.nn.functional as F\n",
        "from torchvision import datasets, transforms\n",
        "import matplotlib.pyplot as plt # for plotting\n",
        "import torch.optim as optim\n",
        "\n",
        "torch.manual_seed(1) # set the random seed\n",
        "\n",
        "# define a 2-layer artificial neural network\n",
        "class Pigeon(nn.Module):\n",
        "    def __init__(self):\n",
        "        super(Pigeon, self).__init__()\n",
        "        self.layer1 = nn.Linear(28 * 28, 30)\n",
        "        self.layer2 = nn.Linear(30, 15)\n",
        "        self.layer3 = nn.Linear(15, 1)\n",
        "    def forward(self, img):\n",
        "        flattened = img.view(-1, 28 * 28)\n",
        "        activation1 = self.layer1(flattened)\n",
        "        activation1 = F.relu(activation1)\n",
        "        activation2 = self.layer2(activation1)\n",
        "        activation2 = F.relu(activation2)\n",
        "        activation3 = self.layer3(activation2)\n",
        "        return activation3\n",
        "\n",
        "pigeon = Pigeon()\n",
        "\n",
        "# load the data\n",
        "mnist_data = datasets.MNIST('data', train=True, download=True)\n",
        "mnist_data = list(mnist_data)\n",
        "mnist_train = mnist_data[:1000]\n",
        "mnist_val   = mnist_data[1000:2000]\n",
        "img_to_tensor = transforms.ToTensor()\n",
        "      \n",
        "    \n",
        "# simplified training code to train `pigeon` on the \"small digit recognition\" task\n",
        "criterion = nn.BCEWithLogitsLoss()\n",
        "optimizer = optim.SGD(pigeon.parameters(), lr=0.005, momentum=0.9)\n",
        "\n",
        "for (image, label) in mnist_train:\n",
        "    # actual ground truth: is the digit less than 3?\n",
        "    actual = torch.tensor(label < 3).reshape([1,1]).type(torch.FloatTensor)\n",
        "    # pigeon prediction\n",
        "    out = pigeon(img_to_tensor(image)) # step 1-2\n",
        "    # update the parameters based on the loss\n",
        "    loss = criterion(out, actual)      # step 3\n",
        "    loss.backward()                    # step 4 (compute the updates for each parameter)\n",
        "    optimizer.step()                   # step 4 (make the updates for each parameter)\n",
        "    optimizer.zero_grad()              # a clean up step for PyTorch\n",
        "\n",
        "# computing the error and accuracy on the training set\n",
        "error = 0\n",
        "for (image, label) in mnist_train:\n",
        "    prob = torch.sigmoid(pigeon(img_to_tensor(image)))\n",
        "    if (prob < 0.5 and label < 3) or (prob >= 0.5 and label >= 3):\n",
        "        error += 1\n",
        "print(\"Training Error Rate:\", error/len(mnist_train))\n",
        "print(\"Training Accuracy:\", 1 - error/len(mnist_train))\n",
        "\n",
        "\n",
        "# computing the error and accuracy on a test set\n",
        "error = 0\n",
        "for (image, label) in mnist_val:\n",
        "    prob = torch.sigmoid(pigeon(img_to_tensor(image)))\n",
        "    if (prob < 0.5 and label < 3) or (prob >= 0.5 and label >= 3):\n",
        "        error += 1\n",
        "print(\"Test Error Rate:\", error/len(mnist_val))\n",
        "print(\"Test Accuracy:\", 1 - error/len(mnist_val))"
      ],
      "execution_count": null,
      "outputs": [
        {
          "output_type": "stream",
          "text": [
            "Training Error Rate: 0.041\n",
            "Training Accuracy: 0.959\n",
            "Test Error Rate: 0.1\n",
            "Test Accuracy: 0.9\n"
          ],
          "name": "stdout"
        }
      ]
    },
    {
      "cell_type": "markdown",
      "metadata": {
        "id": "mtrLEVUcjeks"
      },
      "source": [
        "####Trail 4: types of activation functions\n",
        "\n",
        "\n",
        "*   I tried by changing the activation function function from relu() to leaky_relu(), which results the highest traning and testing accuracy.\n",
        "\n",
        "tanh():\n",
        "* Training Accuracy: 0.96\n",
        "* Test Accuracy: 0.906\n",
        "\n",
        "sigmoid():\n",
        "\n",
        "* Training Accuracy: 0.927\n",
        "* Test Accuracy: 0.883\n",
        "\n",
        "softmax():\n",
        "\n",
        "* Training Accuracy: 0.688\n",
        "* Test Accuracy: 0.7030000000000001\n",
        "\n",
        "leaky_relu():\n",
        "* Training Accuracy: 0.963\n",
        "* Test Accuracy: 0.921"
      ]
    },
    {
      "cell_type": "code",
      "metadata": {
        "colab": {
          "base_uri": "https://localhost:8080/"
        },
        "id": "fh6e_8Orj3_j",
        "outputId": "1a2ec9c3-a39f-44d5-99cc-5a5f6a0c53b0"
      },
      "source": [
        "import torch\n",
        "import torch.nn as nn\n",
        "import torch.nn.functional as F\n",
        "from torchvision import datasets, transforms\n",
        "import matplotlib.pyplot as plt # for plotting\n",
        "import torch.optim as optim\n",
        "\n",
        "torch.manual_seed(1) # set the random seed\n",
        "\n",
        "# define a 2-layer artificial neural network\n",
        "class Pigeon(nn.Module):\n",
        "    def __init__(self):\n",
        "        super(Pigeon, self).__init__()\n",
        "        self.layer1 = nn.Linear(28 * 28, 30)\n",
        "        self.layer2 = nn.Linear(30, 1)\n",
        "    def forward(self, img):\n",
        "        flattened = img.view(-1, 28 * 28)\n",
        "        activation1 = self.layer1(flattened)\n",
        "        activation1 = F.leaky_relu(activation1)\n",
        "        activation2 = self.layer2(activation1)\n",
        "        return activation2\n",
        "\n",
        "pigeon = Pigeon()\n",
        "\n",
        "# load the data\n",
        "mnist_data = datasets.MNIST('data', train=True, download=True)\n",
        "mnist_data = list(mnist_data)\n",
        "mnist_train = mnist_data[:1000]\n",
        "mnist_val   = mnist_data[1000:2000]\n",
        "img_to_tensor = transforms.ToTensor()\n",
        "      \n",
        "    \n",
        "# simplified training code to train `pigeon` on the \"small digit recognition\" task\n",
        "criterion = nn.BCEWithLogitsLoss()\n",
        "optimizer = optim.SGD(pigeon.parameters(), lr=0.005, momentum=0.9)\n",
        "\n",
        "for (image, label) in mnist_train:\n",
        "    # actual ground truth: is the digit less than 3?\n",
        "    actual = torch.tensor(label < 3).reshape([1,1]).type(torch.FloatTensor)\n",
        "    # pigeon prediction\n",
        "    out = pigeon(img_to_tensor(image)) # step 1-2\n",
        "    # update the parameters based on the loss\n",
        "    loss = criterion(out, actual)      # step 3\n",
        "    loss.backward()                    # step 4 (compute the updates for each parameter)\n",
        "    optimizer.step()                   # step 4 (make the updates for each parameter)\n",
        "    optimizer.zero_grad()              # a clean up step for PyTorch\n",
        "\n",
        "# computing the error and accuracy on the training set\n",
        "error = 0\n",
        "for (image, label) in mnist_train:\n",
        "    prob = torch.sigmoid(pigeon(img_to_tensor(image)))\n",
        "    if (prob < 0.5 and label < 3) or (prob >= 0.5 and label >= 3):\n",
        "        error += 1\n",
        "print(\"Training Error Rate:\", error/len(mnist_train))\n",
        "print(\"Training Accuracy:\", 1 - error/len(mnist_train))\n",
        "\n",
        "\n",
        "# computing the error and accuracy on a test set\n",
        "error = 0\n",
        "for (image, label) in mnist_val:\n",
        "    prob = torch.sigmoid(pigeon(img_to_tensor(image)))\n",
        "    if (prob < 0.5 and label < 3) or (prob >= 0.5 and label >= 3):\n",
        "        error += 1\n",
        "print(\"Test Error Rate:\", error/len(mnist_val))\n",
        "print(\"Test Accuracy:\", 1 - error/len(mnist_val))"
      ],
      "execution_count": null,
      "outputs": [
        {
          "output_type": "stream",
          "text": [
            "Training Error Rate: 0.037\n",
            "Training Accuracy: 0.963\n",
            "Test Error Rate: 0.079\n",
            "Test Accuracy: 0.921\n"
          ],
          "name": "stdout"
        }
      ]
    },
    {
      "cell_type": "markdown",
      "metadata": {
        "id": "l5i4DXWvjea4"
      },
      "source": [
        "####Trail 5: learning rate\n",
        "*   I tried by adjusting the lr value from 0.005 to a number in range [0.001 : 0.0015 : 0.0005] and find out when lr = 0.0045, both traning accuracy and test accuracy are high compare to the number within these trails.\n",
        "*   Training Accuracy: 0.967\n",
        "\n",
        "*   Test Accuracy: 0.915\n"
      ]
    },
    {
      "cell_type": "code",
      "metadata": {
        "colab": {
          "base_uri": "https://localhost:8080/"
        },
        "id": "Fja2DCDSj4iW",
        "outputId": "f6b9dcb5-8a8b-44d4-8e54-dccec71b81d9"
      },
      "source": [
        "import torch\n",
        "import torch.nn as nn\n",
        "import torch.nn.functional as F\n",
        "from torchvision import datasets, transforms\n",
        "import matplotlib.pyplot as plt # for plotting\n",
        "import torch.optim as optim\n",
        "\n",
        "torch.manual_seed(1) # set the random seed\n",
        "\n",
        "# define a 2-layer artificial neural network\n",
        "class Pigeon(nn.Module):\n",
        "    def __init__(self):\n",
        "        super(Pigeon, self).__init__()\n",
        "        self.layer1 = nn.Linear(28 * 28, 30)\n",
        "        self.layer2 = nn.Linear(30, 1)\n",
        "    def forward(self, img):\n",
        "        flattened = img.view(-1, 28 * 28)\n",
        "        activation1 = self.layer1(flattened)\n",
        "        activation1 = F.relu(activation1)\n",
        "        activation2 = self.layer2(activation1)\n",
        "        return activation2\n",
        "\n",
        "pigeon = Pigeon()\n",
        "\n",
        "# load the data\n",
        "mnist_data = datasets.MNIST('data', train=True, download=True)\n",
        "mnist_data = list(mnist_data)\n",
        "mnist_train = mnist_data[:1000]\n",
        "mnist_val   = mnist_data[1000:2000]\n",
        "img_to_tensor = transforms.ToTensor()\n",
        "      \n",
        "    \n",
        "# simplified training code to train `pigeon` on the \"small digit recognition\" task\n",
        "criterion = nn.BCEWithLogitsLoss()\n",
        "optimizer = optim.SGD(pigeon.parameters(), lr=0.0045, momentum=0.9)\n",
        "\n",
        "for (image, label) in mnist_train:\n",
        "    # actual ground truth: is the digit less than 3?\n",
        "    actual = torch.tensor(label < 3).reshape([1,1]).type(torch.FloatTensor)\n",
        "    # pigeon prediction\n",
        "    out = pigeon(img_to_tensor(image)) # step 1-2\n",
        "    # update the parameters based on the loss\n",
        "    loss = criterion(out, actual)      # step 3\n",
        "    loss.backward()                    # step 4 (compute the updates for each parameter)\n",
        "    optimizer.step()                   # step 4 (make the updates for each parameter)\n",
        "    optimizer.zero_grad()              # a clean up step for PyTorch\n",
        "\n",
        "# computing the error and accuracy on the training set\n",
        "error = 0\n",
        "for (image, label) in mnist_train:\n",
        "    prob = torch.sigmoid(pigeon(img_to_tensor(image)))\n",
        "    if (prob < 0.5 and label < 3) or (prob >= 0.5 and label >= 3):\n",
        "        error += 1\n",
        "print(\"Training Error Rate:\", error/len(mnist_train))\n",
        "print(\"Training Accuracy:\", 1 - error/len(mnist_train))\n",
        "\n",
        "\n",
        "# computing the error and accuracy on a test set\n",
        "error = 0\n",
        "for (image, label) in mnist_val:\n",
        "    prob = torch.sigmoid(pigeon(img_to_tensor(image)))\n",
        "    if (prob < 0.5 and label < 3) or (prob >= 0.5 and label >= 3):\n",
        "        error += 1\n",
        "print(\"Test Error Rate:\", error/len(mnist_val))\n",
        "print(\"Test Accuracy:\", 1 - error/len(mnist_val))"
      ],
      "execution_count": null,
      "outputs": [
        {
          "output_type": "stream",
          "text": [
            "Training Error Rate: 0.033\n",
            "Training Accuracy: 0.967\n",
            "Test Error Rate: 0.085\n",
            "Test Accuracy: 0.915\n"
          ],
          "name": "stdout"
        }
      ]
    },
    {
      "cell_type": "markdown",
      "metadata": {
        "id": "viYKlFupcgF3"
      },
      "source": [
        "### Part (a) -- 3 pt\n",
        "Comment on which of the above changes resulted in the best accuracy on training data? What accuracy were you able to achieve?"
      ]
    },
    {
      "cell_type": "markdown",
      "metadata": {
        "id": "vetPiy_F1zOe"
      },
      "source": [
        "Answer:\n",
        "\n",
        "Based on the trails and the results above, we generate the highest reference number from each trail to be:\n",
        "\n",
        "* original samle - Training accuracy: 0.964\n",
        "\n",
        "* training iterations - Training accuracy: 0.999\n",
        "\n",
        "* hidden units - Training accuracy: 0.97\n",
        "\n",
        "* layers - Training accuracy: 0.959\n",
        "\n",
        "* activation functions - Training accuracy: 0.963\n",
        "\n",
        "* learning rate - Training accuracy: 0.967\n",
        "\n",
        "As we can see, there is a significant effect/improve on training accuracy when we increases the training iterations, which achieves 0.999. \n",
        "\n",
        "Also, by adjusing the learning rate and adding hidden units, these two methods also increase the training accuracy by a small amount, which are 0.967 and 0.97 respectively.\n",
        "\n"
      ]
    },
    {
      "cell_type": "markdown",
      "metadata": {
        "id": "pi6bWs7jcIem"
      },
      "source": [
        "### Part (b) -- 3 pt\n",
        "\n",
        "\n",
        "Comment on which of the above changes resulted in the best accuracy on testing data? What accuracy were you able to achieve?"
      ]
    },
    {
      "cell_type": "markdown",
      "metadata": {
        "id": "-srGxU9z3HD3"
      },
      "source": [
        "Answer:\n",
        "\n",
        "Based on the trails and the results above, we generate the highest reference number from each trail to be:\n",
        "\n",
        "* original samle - Test Accuracy: 0.921\n",
        "\n",
        "* training iterations - Test Accuracy: 0.9410000000000001\n",
        "\n",
        "* hidden units - Test Accuracy: 0.923\n",
        "\n",
        "* layers - Test Accuracy: 0.9\n",
        "\n",
        "* activation functions - Test Accuracy: 0.921\n",
        "\n",
        "* learning rate - Test Accuracy: 0.915\n",
        "\n",
        "As we can see from the result above, when we increase the training iterations and the number of hidden units on the layers will result in the improvement on testing accuracy, which are 0.941 and 0.923 respectively."
      ]
    },
    {
      "cell_type": "markdown",
      "metadata": {
        "id": "j7W2k347wFqo"
      },
      "source": [
        "### Part (c) -- 4 pt\n",
        "Which model hyperparameters should you use, the ones from (a) or (b)?"
      ]
    },
    {
      "cell_type": "markdown",
      "metadata": {
        "id": "rzETdMsw5Iao"
      },
      "source": [
        "Answer:\n",
        "\n",
        "I will use the model hyperparameters from part (b), since we are interested in how well the model can used to predict the unknown-result data sets, which is reflected by the testing accuracy. So, having a better accuracy among testing data sets reflects on the model can predict the unseen data sets result/label the better. We want to train the machine to learn from the training data sets to predict for the unknown-result onces. So, by having a better testing accuracy is more important. \n",
        "\n",
        "To be noticed is that, the training accuracy is also important, but having a very high training accuracy may also reflect that the model is over-fitting to the training datas. So, by both comparing the training accuracy and testing accuracy, in this case, trainig accuracy might be very high but results in a lower testing accuracy compares to others. This is the case we do not want to be in. So, we should choose model hyperparameters from part b as better testing accuracy for better prediction on results for unseen data sets . \n"
      ]
    }
  ]
}